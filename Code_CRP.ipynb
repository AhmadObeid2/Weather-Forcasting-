{
  "nbformat": 4,
  "nbformat_minor": 0,
  "metadata": {
    "colab": {
      "provenance": []
    },
    "kernelspec": {
      "name": "python3",
      "display_name": "Python 3"
    },
    "language_info": {
      "name": "python"
    }
  },
  "cells": [
    {
      "cell_type": "markdown",
      "source": [
        "# **Checking up the data**"
      ],
      "metadata": {
        "id": "24jx9wi9Rm79"
      }
    },
    {
      "cell_type": "code",
      "source": [
        "import pandas as pd\n",
        "import numpy as np\n",
        "import seaborn as sns\n",
        "import matplotlib.pyplot as plt\n",
        "from sklearn.linear_model import LinearRegression\n",
        "from sklearn.model_selection import train_test_split\n",
        "from sklearn.feature_selection import SelectFromModel\n",
        "from sklearn.metrics import mean_squared_error, mean_absolute_error, r2_score\n",
        "from sklearn.tree import DecisionTreeRegressor\n",
        "from sklearn.ensemble import RandomForestRegressor\n",
        "from sklearn.preprocessing import LabelEncoder\n",
        "from sklearn.feature_selection import RFE\n",
        "from sklearn.model_selection import train_test_split, GridSearchCV\n",
        "from sklearn.preprocessing import StandardScaler\n",
        "from sklearn.metrics import mean_squared_error\n",
        "file = 'training_.csv'\n",
        "df = pd.read_csv(file)"
      ],
      "metadata": {
        "id": "xv4WdJ7UWF_Y"
      },
      "execution_count": 2,
      "outputs": []
    },
    {
      "cell_type": "code",
      "source": [
        "df.shape"
      ],
      "metadata": {
        "colab": {
          "base_uri": "https://localhost:8080/"
        },
        "id": "CxezPGAGT44j",
        "outputId": "40b43ece-3c04-4b31-dc80-e9b20496fa3c"
      },
      "execution_count": 3,
      "outputs": [
        {
          "output_type": "execute_result",
          "data": {
            "text/plain": [
              "(23340, 23)"
            ]
          },
          "metadata": {},
          "execution_count": 3
        }
      ]
    },
    {
      "cell_type": "code",
      "source": [
        "df.count()"
      ],
      "metadata": {
        "colab": {
          "base_uri": "https://localhost:8080/"
        },
        "id": "Mygy6PpAT-yL",
        "outputId": "c1a5f5cf-d5ad-4bdc-e2ac-ba3837eade6c"
      },
      "execution_count": 4,
      "outputs": [
        {
          "output_type": "execute_result",
          "data": {
            "text/plain": [
              "time                    23340\n",
              "location                23340\n",
              "temperature             23260\n",
              "dew_point               23259\n",
              "wind_speed              23337\n",
              "wind_direction          23112\n",
              "total_cover             23340\n",
              "pressure                23255\n",
              "time_1_day              23340\n",
              "temperature_1_day       23263\n",
              "dew_point_1_day         23262\n",
              "wind_speed_1_day        23337\n",
              "wind_direction_1_day    23120\n",
              "total_cover_1_day       23340\n",
              "pressure_1_day          23258\n",
              "time_2_day              23340\n",
              "temperature_2_day       23266\n",
              "dew_point_2_day         23265\n",
              "wind_speed_2_day        23336\n",
              "wind_direction_2_day    23113\n",
              "total_cover_2_day       23340\n",
              "pressure_2_day          23261\n",
              "label                   23340\n",
              "dtype: int64"
            ]
          },
          "metadata": {},
          "execution_count": 4
        }
      ]
    },
    {
      "cell_type": "code",
      "source": [
        "df.describe(include='all')"
      ],
      "metadata": {
        "colab": {
          "base_uri": "https://localhost:8080/",
          "height": 461
        },
        "id": "9YgtVUpbUkWO",
        "outputId": "6dc0bfee-ed7b-41fc-fc0a-608da6b55cb8"
      },
      "execution_count": 5,
      "outputs": [
        {
          "output_type": "execute_result",
          "data": {
            "text/plain": [
              "                             time location   temperature     dew_point  \\\n",
              "count                       23340    23340  23260.000000  23259.000000   \n",
              "unique                       8249        3           NaN           NaN   \n",
              "top     2021-10-18 10:00:00+00:00     QAIA           NaN           NaN   \n",
              "freq                            6     7846           NaN           NaN   \n",
              "mean                          NaN      NaN     19.830310      7.007997   \n",
              "std                           NaN      NaN      9.172273      5.807325   \n",
              "min                           NaN      NaN     -3.000000    -16.000000   \n",
              "25%                           NaN      NaN     13.000000      3.000000   \n",
              "50%                           NaN      NaN     20.000000      7.000000   \n",
              "75%                           NaN      NaN     27.000000     11.000000   \n",
              "max                           NaN      NaN     46.000000     29.000000   \n",
              "\n",
              "          wind_speed  wind_direction   total_cover      pressure  \\\n",
              "count   23337.000000    23112.000000  23340.000000  23255.000000   \n",
              "unique           NaN             NaN           NaN           NaN   \n",
              "top              NaN             NaN           NaN           NaN   \n",
              "freq             NaN             NaN           NaN           NaN   \n",
              "mean        3.765795      204.132831     19.875321   1014.799441   \n",
              "std         2.659252      132.619094     21.108254      5.132478   \n",
              "min         0.000000        0.000000      0.000000   1000.000000   \n",
              "25%         2.060000       60.000000      0.000000   1011.000000   \n",
              "50%         3.600000      250.000000     15.000000   1015.000000   \n",
              "75%         5.660000      310.000000     15.000000   1018.000000   \n",
              "max        25.720000      950.000000    100.000000   1090.000000   \n",
              "\n",
              "                       time_1_day  temperature_1_day  ...  total_cover_1_day  \\\n",
              "count                       23340       23263.000000  ...       23340.000000   \n",
              "unique                       8254                NaN  ...                NaN   \n",
              "top     2021-10-18 10:00:00+00:00                NaN  ...                NaN   \n",
              "freq                            6                NaN  ...                NaN   \n",
              "mean                          NaN          19.835361  ...          19.883676   \n",
              "std                           NaN           9.173669  ...          21.104368   \n",
              "min                           NaN          -3.000000  ...           0.000000   \n",
              "25%                           NaN          13.000000  ...           0.000000   \n",
              "50%                           NaN          20.000000  ...          15.000000   \n",
              "75%                           NaN          27.000000  ...          15.000000   \n",
              "max                           NaN          46.000000  ...         100.000000   \n",
              "\n",
              "        pressure_1_day                 time_2_day  temperature_2_day  \\\n",
              "count     23258.000000                      23340       23266.000000   \n",
              "unique             NaN                       8243                NaN   \n",
              "top                NaN  2021-10-18 10:00:00+00:00                NaN   \n",
              "freq               NaN                          6                NaN   \n",
              "mean       1014.792888                        NaN          19.834995   \n",
              "std           5.141182                        NaN           9.177420   \n",
              "min        1000.000000                        NaN          -3.000000   \n",
              "25%        1011.000000                        NaN          13.000000   \n",
              "50%        1015.000000                        NaN          20.000000   \n",
              "75%        1018.000000                        NaN          27.000000   \n",
              "max        1090.000000                        NaN          46.000000   \n",
              "\n",
              "        dew_point_2_day wind_speed_2_day  wind_direction_2_day  \\\n",
              "count      23265.000000     23336.000000          23113.000000   \n",
              "unique              NaN              NaN                   NaN   \n",
              "top                 NaN              NaN                   NaN   \n",
              "freq                NaN              NaN                   NaN   \n",
              "mean           6.996475         3.759913            203.981655   \n",
              "std            5.799084         2.658981            132.741978   \n",
              "min          -16.000000         0.000000              0.000000   \n",
              "25%            3.000000         2.060000             60.000000   \n",
              "50%            7.000000         3.600000            250.000000   \n",
              "75%           11.000000         5.660000            310.000000   \n",
              "max           29.000000        25.720000            950.000000   \n",
              "\n",
              "        total_cover_2_day  pressure_2_day         label  \n",
              "count        23340.000000    23261.000000  23340.000000  \n",
              "unique                NaN             NaN           NaN  \n",
              "top                   NaN             NaN           NaN  \n",
              "freq                  NaN             NaN           NaN  \n",
              "mean            19.858612     1014.793947     19.827506  \n",
              "std             21.080220        5.141620      9.172048  \n",
              "min              0.000000     1000.000000     -3.000000  \n",
              "25%              0.000000     1011.000000     13.000000  \n",
              "50%             15.000000     1015.000000     20.000000  \n",
              "75%             15.000000     1018.000000     27.000000  \n",
              "max            100.000000     1090.000000     44.000000  \n",
              "\n",
              "[11 rows x 23 columns]"
            ],
            "text/html": [
              "\n",
              "  <div id=\"df-48a2d374-962e-4734-8c17-58877d388316\" class=\"colab-df-container\">\n",
              "    <div>\n",
              "<style scoped>\n",
              "    .dataframe tbody tr th:only-of-type {\n",
              "        vertical-align: middle;\n",
              "    }\n",
              "\n",
              "    .dataframe tbody tr th {\n",
              "        vertical-align: top;\n",
              "    }\n",
              "\n",
              "    .dataframe thead th {\n",
              "        text-align: right;\n",
              "    }\n",
              "</style>\n",
              "<table border=\"1\" class=\"dataframe\">\n",
              "  <thead>\n",
              "    <tr style=\"text-align: right;\">\n",
              "      <th></th>\n",
              "      <th>time</th>\n",
              "      <th>location</th>\n",
              "      <th>temperature</th>\n",
              "      <th>dew_point</th>\n",
              "      <th>wind_speed</th>\n",
              "      <th>wind_direction</th>\n",
              "      <th>total_cover</th>\n",
              "      <th>pressure</th>\n",
              "      <th>time_1_day</th>\n",
              "      <th>temperature_1_day</th>\n",
              "      <th>...</th>\n",
              "      <th>total_cover_1_day</th>\n",
              "      <th>pressure_1_day</th>\n",
              "      <th>time_2_day</th>\n",
              "      <th>temperature_2_day</th>\n",
              "      <th>dew_point_2_day</th>\n",
              "      <th>wind_speed_2_day</th>\n",
              "      <th>wind_direction_2_day</th>\n",
              "      <th>total_cover_2_day</th>\n",
              "      <th>pressure_2_day</th>\n",
              "      <th>label</th>\n",
              "    </tr>\n",
              "  </thead>\n",
              "  <tbody>\n",
              "    <tr>\n",
              "      <th>count</th>\n",
              "      <td>23340</td>\n",
              "      <td>23340</td>\n",
              "      <td>23260.000000</td>\n",
              "      <td>23259.000000</td>\n",
              "      <td>23337.000000</td>\n",
              "      <td>23112.000000</td>\n",
              "      <td>23340.000000</td>\n",
              "      <td>23255.000000</td>\n",
              "      <td>23340</td>\n",
              "      <td>23263.000000</td>\n",
              "      <td>...</td>\n",
              "      <td>23340.000000</td>\n",
              "      <td>23258.000000</td>\n",
              "      <td>23340</td>\n",
              "      <td>23266.000000</td>\n",
              "      <td>23265.000000</td>\n",
              "      <td>23336.000000</td>\n",
              "      <td>23113.000000</td>\n",
              "      <td>23340.000000</td>\n",
              "      <td>23261.000000</td>\n",
              "      <td>23340.000000</td>\n",
              "    </tr>\n",
              "    <tr>\n",
              "      <th>unique</th>\n",
              "      <td>8249</td>\n",
              "      <td>3</td>\n",
              "      <td>NaN</td>\n",
              "      <td>NaN</td>\n",
              "      <td>NaN</td>\n",
              "      <td>NaN</td>\n",
              "      <td>NaN</td>\n",
              "      <td>NaN</td>\n",
              "      <td>8254</td>\n",
              "      <td>NaN</td>\n",
              "      <td>...</td>\n",
              "      <td>NaN</td>\n",
              "      <td>NaN</td>\n",
              "      <td>8243</td>\n",
              "      <td>NaN</td>\n",
              "      <td>NaN</td>\n",
              "      <td>NaN</td>\n",
              "      <td>NaN</td>\n",
              "      <td>NaN</td>\n",
              "      <td>NaN</td>\n",
              "      <td>NaN</td>\n",
              "    </tr>\n",
              "    <tr>\n",
              "      <th>top</th>\n",
              "      <td>2021-10-18 10:00:00+00:00</td>\n",
              "      <td>QAIA</td>\n",
              "      <td>NaN</td>\n",
              "      <td>NaN</td>\n",
              "      <td>NaN</td>\n",
              "      <td>NaN</td>\n",
              "      <td>NaN</td>\n",
              "      <td>NaN</td>\n",
              "      <td>2021-10-18 10:00:00+00:00</td>\n",
              "      <td>NaN</td>\n",
              "      <td>...</td>\n",
              "      <td>NaN</td>\n",
              "      <td>NaN</td>\n",
              "      <td>2021-10-18 10:00:00+00:00</td>\n",
              "      <td>NaN</td>\n",
              "      <td>NaN</td>\n",
              "      <td>NaN</td>\n",
              "      <td>NaN</td>\n",
              "      <td>NaN</td>\n",
              "      <td>NaN</td>\n",
              "      <td>NaN</td>\n",
              "    </tr>\n",
              "    <tr>\n",
              "      <th>freq</th>\n",
              "      <td>6</td>\n",
              "      <td>7846</td>\n",
              "      <td>NaN</td>\n",
              "      <td>NaN</td>\n",
              "      <td>NaN</td>\n",
              "      <td>NaN</td>\n",
              "      <td>NaN</td>\n",
              "      <td>NaN</td>\n",
              "      <td>6</td>\n",
              "      <td>NaN</td>\n",
              "      <td>...</td>\n",
              "      <td>NaN</td>\n",
              "      <td>NaN</td>\n",
              "      <td>6</td>\n",
              "      <td>NaN</td>\n",
              "      <td>NaN</td>\n",
              "      <td>NaN</td>\n",
              "      <td>NaN</td>\n",
              "      <td>NaN</td>\n",
              "      <td>NaN</td>\n",
              "      <td>NaN</td>\n",
              "    </tr>\n",
              "    <tr>\n",
              "      <th>mean</th>\n",
              "      <td>NaN</td>\n",
              "      <td>NaN</td>\n",
              "      <td>19.830310</td>\n",
              "      <td>7.007997</td>\n",
              "      <td>3.765795</td>\n",
              "      <td>204.132831</td>\n",
              "      <td>19.875321</td>\n",
              "      <td>1014.799441</td>\n",
              "      <td>NaN</td>\n",
              "      <td>19.835361</td>\n",
              "      <td>...</td>\n",
              "      <td>19.883676</td>\n",
              "      <td>1014.792888</td>\n",
              "      <td>NaN</td>\n",
              "      <td>19.834995</td>\n",
              "      <td>6.996475</td>\n",
              "      <td>3.759913</td>\n",
              "      <td>203.981655</td>\n",
              "      <td>19.858612</td>\n",
              "      <td>1014.793947</td>\n",
              "      <td>19.827506</td>\n",
              "    </tr>\n",
              "    <tr>\n",
              "      <th>std</th>\n",
              "      <td>NaN</td>\n",
              "      <td>NaN</td>\n",
              "      <td>9.172273</td>\n",
              "      <td>5.807325</td>\n",
              "      <td>2.659252</td>\n",
              "      <td>132.619094</td>\n",
              "      <td>21.108254</td>\n",
              "      <td>5.132478</td>\n",
              "      <td>NaN</td>\n",
              "      <td>9.173669</td>\n",
              "      <td>...</td>\n",
              "      <td>21.104368</td>\n",
              "      <td>5.141182</td>\n",
              "      <td>NaN</td>\n",
              "      <td>9.177420</td>\n",
              "      <td>5.799084</td>\n",
              "      <td>2.658981</td>\n",
              "      <td>132.741978</td>\n",
              "      <td>21.080220</td>\n",
              "      <td>5.141620</td>\n",
              "      <td>9.172048</td>\n",
              "    </tr>\n",
              "    <tr>\n",
              "      <th>min</th>\n",
              "      <td>NaN</td>\n",
              "      <td>NaN</td>\n",
              "      <td>-3.000000</td>\n",
              "      <td>-16.000000</td>\n",
              "      <td>0.000000</td>\n",
              "      <td>0.000000</td>\n",
              "      <td>0.000000</td>\n",
              "      <td>1000.000000</td>\n",
              "      <td>NaN</td>\n",
              "      <td>-3.000000</td>\n",
              "      <td>...</td>\n",
              "      <td>0.000000</td>\n",
              "      <td>1000.000000</td>\n",
              "      <td>NaN</td>\n",
              "      <td>-3.000000</td>\n",
              "      <td>-16.000000</td>\n",
              "      <td>0.000000</td>\n",
              "      <td>0.000000</td>\n",
              "      <td>0.000000</td>\n",
              "      <td>1000.000000</td>\n",
              "      <td>-3.000000</td>\n",
              "    </tr>\n",
              "    <tr>\n",
              "      <th>25%</th>\n",
              "      <td>NaN</td>\n",
              "      <td>NaN</td>\n",
              "      <td>13.000000</td>\n",
              "      <td>3.000000</td>\n",
              "      <td>2.060000</td>\n",
              "      <td>60.000000</td>\n",
              "      <td>0.000000</td>\n",
              "      <td>1011.000000</td>\n",
              "      <td>NaN</td>\n",
              "      <td>13.000000</td>\n",
              "      <td>...</td>\n",
              "      <td>0.000000</td>\n",
              "      <td>1011.000000</td>\n",
              "      <td>NaN</td>\n",
              "      <td>13.000000</td>\n",
              "      <td>3.000000</td>\n",
              "      <td>2.060000</td>\n",
              "      <td>60.000000</td>\n",
              "      <td>0.000000</td>\n",
              "      <td>1011.000000</td>\n",
              "      <td>13.000000</td>\n",
              "    </tr>\n",
              "    <tr>\n",
              "      <th>50%</th>\n",
              "      <td>NaN</td>\n",
              "      <td>NaN</td>\n",
              "      <td>20.000000</td>\n",
              "      <td>7.000000</td>\n",
              "      <td>3.600000</td>\n",
              "      <td>250.000000</td>\n",
              "      <td>15.000000</td>\n",
              "      <td>1015.000000</td>\n",
              "      <td>NaN</td>\n",
              "      <td>20.000000</td>\n",
              "      <td>...</td>\n",
              "      <td>15.000000</td>\n",
              "      <td>1015.000000</td>\n",
              "      <td>NaN</td>\n",
              "      <td>20.000000</td>\n",
              "      <td>7.000000</td>\n",
              "      <td>3.600000</td>\n",
              "      <td>250.000000</td>\n",
              "      <td>15.000000</td>\n",
              "      <td>1015.000000</td>\n",
              "      <td>20.000000</td>\n",
              "    </tr>\n",
              "    <tr>\n",
              "      <th>75%</th>\n",
              "      <td>NaN</td>\n",
              "      <td>NaN</td>\n",
              "      <td>27.000000</td>\n",
              "      <td>11.000000</td>\n",
              "      <td>5.660000</td>\n",
              "      <td>310.000000</td>\n",
              "      <td>15.000000</td>\n",
              "      <td>1018.000000</td>\n",
              "      <td>NaN</td>\n",
              "      <td>27.000000</td>\n",
              "      <td>...</td>\n",
              "      <td>15.000000</td>\n",
              "      <td>1018.000000</td>\n",
              "      <td>NaN</td>\n",
              "      <td>27.000000</td>\n",
              "      <td>11.000000</td>\n",
              "      <td>5.660000</td>\n",
              "      <td>310.000000</td>\n",
              "      <td>15.000000</td>\n",
              "      <td>1018.000000</td>\n",
              "      <td>27.000000</td>\n",
              "    </tr>\n",
              "    <tr>\n",
              "      <th>max</th>\n",
              "      <td>NaN</td>\n",
              "      <td>NaN</td>\n",
              "      <td>46.000000</td>\n",
              "      <td>29.000000</td>\n",
              "      <td>25.720000</td>\n",
              "      <td>950.000000</td>\n",
              "      <td>100.000000</td>\n",
              "      <td>1090.000000</td>\n",
              "      <td>NaN</td>\n",
              "      <td>46.000000</td>\n",
              "      <td>...</td>\n",
              "      <td>100.000000</td>\n",
              "      <td>1090.000000</td>\n",
              "      <td>NaN</td>\n",
              "      <td>46.000000</td>\n",
              "      <td>29.000000</td>\n",
              "      <td>25.720000</td>\n",
              "      <td>950.000000</td>\n",
              "      <td>100.000000</td>\n",
              "      <td>1090.000000</td>\n",
              "      <td>44.000000</td>\n",
              "    </tr>\n",
              "  </tbody>\n",
              "</table>\n",
              "<p>11 rows × 23 columns</p>\n",
              "</div>\n",
              "    <div class=\"colab-df-buttons\">\n",
              "\n",
              "  <div class=\"colab-df-container\">\n",
              "    <button class=\"colab-df-convert\" onclick=\"convertToInteractive('df-48a2d374-962e-4734-8c17-58877d388316')\"\n",
              "            title=\"Convert this dataframe to an interactive table.\"\n",
              "            style=\"display:none;\">\n",
              "\n",
              "  <svg xmlns=\"http://www.w3.org/2000/svg\" height=\"24px\" viewBox=\"0 -960 960 960\">\n",
              "    <path d=\"M120-120v-720h720v720H120Zm60-500h600v-160H180v160Zm220 220h160v-160H400v160Zm0 220h160v-160H400v160ZM180-400h160v-160H180v160Zm440 0h160v-160H620v160ZM180-180h160v-160H180v160Zm440 0h160v-160H620v160Z\"/>\n",
              "  </svg>\n",
              "    </button>\n",
              "\n",
              "  <style>\n",
              "    .colab-df-container {\n",
              "      display:flex;\n",
              "      gap: 12px;\n",
              "    }\n",
              "\n",
              "    .colab-df-convert {\n",
              "      background-color: #E8F0FE;\n",
              "      border: none;\n",
              "      border-radius: 50%;\n",
              "      cursor: pointer;\n",
              "      display: none;\n",
              "      fill: #1967D2;\n",
              "      height: 32px;\n",
              "      padding: 0 0 0 0;\n",
              "      width: 32px;\n",
              "    }\n",
              "\n",
              "    .colab-df-convert:hover {\n",
              "      background-color: #E2EBFA;\n",
              "      box-shadow: 0px 1px 2px rgba(60, 64, 67, 0.3), 0px 1px 3px 1px rgba(60, 64, 67, 0.15);\n",
              "      fill: #174EA6;\n",
              "    }\n",
              "\n",
              "    .colab-df-buttons div {\n",
              "      margin-bottom: 4px;\n",
              "    }\n",
              "\n",
              "    [theme=dark] .colab-df-convert {\n",
              "      background-color: #3B4455;\n",
              "      fill: #D2E3FC;\n",
              "    }\n",
              "\n",
              "    [theme=dark] .colab-df-convert:hover {\n",
              "      background-color: #434B5C;\n",
              "      box-shadow: 0px 1px 3px 1px rgba(0, 0, 0, 0.15);\n",
              "      filter: drop-shadow(0px 1px 2px rgba(0, 0, 0, 0.3));\n",
              "      fill: #FFFFFF;\n",
              "    }\n",
              "  </style>\n",
              "\n",
              "    <script>\n",
              "      const buttonEl =\n",
              "        document.querySelector('#df-48a2d374-962e-4734-8c17-58877d388316 button.colab-df-convert');\n",
              "      buttonEl.style.display =\n",
              "        google.colab.kernel.accessAllowed ? 'block' : 'none';\n",
              "\n",
              "      async function convertToInteractive(key) {\n",
              "        const element = document.querySelector('#df-48a2d374-962e-4734-8c17-58877d388316');\n",
              "        const dataTable =\n",
              "          await google.colab.kernel.invokeFunction('convertToInteractive',\n",
              "                                                    [key], {});\n",
              "        if (!dataTable) return;\n",
              "\n",
              "        const docLinkHtml = 'Like what you see? Visit the ' +\n",
              "          '<a target=\"_blank\" href=https://colab.research.google.com/notebooks/data_table.ipynb>data table notebook</a>'\n",
              "          + ' to learn more about interactive tables.';\n",
              "        element.innerHTML = '';\n",
              "        dataTable['output_type'] = 'display_data';\n",
              "        await google.colab.output.renderOutput(dataTable, element);\n",
              "        const docLink = document.createElement('div');\n",
              "        docLink.innerHTML = docLinkHtml;\n",
              "        element.appendChild(docLink);\n",
              "      }\n",
              "    </script>\n",
              "  </div>\n",
              "\n",
              "\n",
              "<div id=\"df-c5f348cf-30f6-4a23-9fc8-29e2bb5ebefa\">\n",
              "  <button class=\"colab-df-quickchart\" onclick=\"quickchart('df-c5f348cf-30f6-4a23-9fc8-29e2bb5ebefa')\"\n",
              "            title=\"Suggest charts\"\n",
              "            style=\"display:none;\">\n",
              "\n",
              "<svg xmlns=\"http://www.w3.org/2000/svg\" height=\"24px\"viewBox=\"0 0 24 24\"\n",
              "     width=\"24px\">\n",
              "    <g>\n",
              "        <path d=\"M19 3H5c-1.1 0-2 .9-2 2v14c0 1.1.9 2 2 2h14c1.1 0 2-.9 2-2V5c0-1.1-.9-2-2-2zM9 17H7v-7h2v7zm4 0h-2V7h2v10zm4 0h-2v-4h2v4z\"/>\n",
              "    </g>\n",
              "</svg>\n",
              "  </button>\n",
              "\n",
              "<style>\n",
              "  .colab-df-quickchart {\n",
              "      --bg-color: #E8F0FE;\n",
              "      --fill-color: #1967D2;\n",
              "      --hover-bg-color: #E2EBFA;\n",
              "      --hover-fill-color: #174EA6;\n",
              "      --disabled-fill-color: #AAA;\n",
              "      --disabled-bg-color: #DDD;\n",
              "  }\n",
              "\n",
              "  [theme=dark] .colab-df-quickchart {\n",
              "      --bg-color: #3B4455;\n",
              "      --fill-color: #D2E3FC;\n",
              "      --hover-bg-color: #434B5C;\n",
              "      --hover-fill-color: #FFFFFF;\n",
              "      --disabled-bg-color: #3B4455;\n",
              "      --disabled-fill-color: #666;\n",
              "  }\n",
              "\n",
              "  .colab-df-quickchart {\n",
              "    background-color: var(--bg-color);\n",
              "    border: none;\n",
              "    border-radius: 50%;\n",
              "    cursor: pointer;\n",
              "    display: none;\n",
              "    fill: var(--fill-color);\n",
              "    height: 32px;\n",
              "    padding: 0;\n",
              "    width: 32px;\n",
              "  }\n",
              "\n",
              "  .colab-df-quickchart:hover {\n",
              "    background-color: var(--hover-bg-color);\n",
              "    box-shadow: 0 1px 2px rgba(60, 64, 67, 0.3), 0 1px 3px 1px rgba(60, 64, 67, 0.15);\n",
              "    fill: var(--button-hover-fill-color);\n",
              "  }\n",
              "\n",
              "  .colab-df-quickchart-complete:disabled,\n",
              "  .colab-df-quickchart-complete:disabled:hover {\n",
              "    background-color: var(--disabled-bg-color);\n",
              "    fill: var(--disabled-fill-color);\n",
              "    box-shadow: none;\n",
              "  }\n",
              "\n",
              "  .colab-df-spinner {\n",
              "    border: 2px solid var(--fill-color);\n",
              "    border-color: transparent;\n",
              "    border-bottom-color: var(--fill-color);\n",
              "    animation:\n",
              "      spin 1s steps(1) infinite;\n",
              "  }\n",
              "\n",
              "  @keyframes spin {\n",
              "    0% {\n",
              "      border-color: transparent;\n",
              "      border-bottom-color: var(--fill-color);\n",
              "      border-left-color: var(--fill-color);\n",
              "    }\n",
              "    20% {\n",
              "      border-color: transparent;\n",
              "      border-left-color: var(--fill-color);\n",
              "      border-top-color: var(--fill-color);\n",
              "    }\n",
              "    30% {\n",
              "      border-color: transparent;\n",
              "      border-left-color: var(--fill-color);\n",
              "      border-top-color: var(--fill-color);\n",
              "      border-right-color: var(--fill-color);\n",
              "    }\n",
              "    40% {\n",
              "      border-color: transparent;\n",
              "      border-right-color: var(--fill-color);\n",
              "      border-top-color: var(--fill-color);\n",
              "    }\n",
              "    60% {\n",
              "      border-color: transparent;\n",
              "      border-right-color: var(--fill-color);\n",
              "    }\n",
              "    80% {\n",
              "      border-color: transparent;\n",
              "      border-right-color: var(--fill-color);\n",
              "      border-bottom-color: var(--fill-color);\n",
              "    }\n",
              "    90% {\n",
              "      border-color: transparent;\n",
              "      border-bottom-color: var(--fill-color);\n",
              "    }\n",
              "  }\n",
              "</style>\n",
              "\n",
              "  <script>\n",
              "    async function quickchart(key) {\n",
              "      const quickchartButtonEl =\n",
              "        document.querySelector('#' + key + ' button');\n",
              "      quickchartButtonEl.disabled = true;  // To prevent multiple clicks.\n",
              "      quickchartButtonEl.classList.add('colab-df-spinner');\n",
              "      try {\n",
              "        const charts = await google.colab.kernel.invokeFunction(\n",
              "            'suggestCharts', [key], {});\n",
              "      } catch (error) {\n",
              "        console.error('Error during call to suggestCharts:', error);\n",
              "      }\n",
              "      quickchartButtonEl.classList.remove('colab-df-spinner');\n",
              "      quickchartButtonEl.classList.add('colab-df-quickchart-complete');\n",
              "    }\n",
              "    (() => {\n",
              "      let quickchartButtonEl =\n",
              "        document.querySelector('#df-c5f348cf-30f6-4a23-9fc8-29e2bb5ebefa button');\n",
              "      quickchartButtonEl.style.display =\n",
              "        google.colab.kernel.accessAllowed ? 'block' : 'none';\n",
              "    })();\n",
              "  </script>\n",
              "</div>\n",
              "\n",
              "    </div>\n",
              "  </div>\n"
            ],
            "application/vnd.google.colaboratory.intrinsic+json": {
              "type": "dataframe"
            }
          },
          "metadata": {},
          "execution_count": 5
        }
      ]
    },
    {
      "cell_type": "markdown",
      "source": [
        "# **Pridiction**"
      ],
      "metadata": {
        "id": "QUCXC2Pwpdnc"
      }
    },
    {
      "cell_type": "code",
      "source": [
        "df.dropna(subset=['temperature'], inplace=True)\n",
        "df.dropna(subset=['dew_point'], inplace=True)\n",
        "df.dropna(subset=['wind_speed'], inplace=True)\n",
        "df.dropna(subset=['wind_direction'], inplace=True)\n",
        "df.dropna(subset=['pressure'], inplace=True)\n",
        "df.dropna(subset=['temperature_1_day'], inplace=True)\n",
        "df.dropna(subset=['dew_point_1_day'], inplace=True)\n",
        "df.dropna(subset=['wind_speed_1_day'], inplace=True)\n",
        "df.dropna(subset=['wind_direction_1_day'], inplace=True)\n",
        "df.dropna(subset=['pressure_1_day'], inplace=True)\n",
        "df.dropna(subset=['temperature_2_day'], inplace=True)\n",
        "df.dropna(subset=['dew_point_2_day'], inplace=True)\n",
        "df.dropna(subset=['wind_speed_2_day'], inplace=True)\n",
        "df.dropna(subset=['wind_direction_2_day'], inplace=True)\n",
        "df.dropna(subset=['pressure_2_day'], inplace=True)"
      ],
      "metadata": {
        "id": "yoqHK_RiVjN7"
      },
      "execution_count": 6,
      "outputs": []
    },
    {
      "cell_type": "markdown",
      "source": [
        "encoding"
      ],
      "metadata": {
        "id": "vUa41Ds4APj0"
      }
    },
    {
      "cell_type": "code",
      "source": [
        "cat_columns = df.select_dtypes(['object']).columns\n",
        "label_encoder = LabelEncoder()\n",
        "df[cat_columns] = df[cat_columns].apply(LabelEncoder().fit_transform)"
      ],
      "metadata": {
        "id": "D3Nnrcmzpdnh"
      },
      "execution_count": 7,
      "outputs": []
    },
    {
      "cell_type": "code",
      "source": [
        "c = ['temperature', 'dew_point', 'wind_speed', 'wind_direction','pressure', 'temperature_1_day','dew_point_1_day', 'wind_speed_1_day'\n",
        ", 'wind_direction_1_day', 'pressure_1_day', 'temperature_2_day', 'dew_point_2_day', 'wind_speed_2_day', 'wind_direction_2_day', 'pressure_2_day']\n",
        "Q1 = df[c].quantile(0.25)\n",
        "Q3 = df[c].quantile(0.75)\n",
        "IQR = Q3 - Q1\n",
        "threshold = 1.5\n",
        "o = ((df[c] < (Q1 - threshold * IQR)) | (df[c] > (Q3 + threshold * IQR))).any(axis=1)\n",
        "df.drop(df[o].index, inplace=True)"
      ],
      "metadata": {
        "id": "xq_A6pp2J483"
      },
      "execution_count": 8,
      "outputs": []
    },
    {
      "cell_type": "code",
      "source": [
        "iteration=30"
      ],
      "metadata": {
        "id": "ksCOM_c4M_8b"
      },
      "execution_count": 9,
      "outputs": []
    },
    {
      "cell_type": "markdown",
      "source": [
        "**select from model**"
      ],
      "metadata": {
        "id": "w_3jGoYPb7ej"
      }
    },
    {
      "cell_type": "code",
      "source": [
        "X = df.drop([\"label\"], axis=1)\n",
        "y = df[\"label\"]\n",
        "X_train, X_test, y_train, y_test = train_test_split(X, y, test_size=0.3, random_state=4)\n",
        "model = LinearRegression()\n",
        "model.fit(X_train, y_train)\n",
        "sfm = SelectFromModel(model, threshold=\"median\")\n",
        "sfm.fit(X_train, y_train)\n",
        "selected_features = X.columns[sfm.get_support()]\n",
        "print(\"Selected features:\", selected_features)\n",
        "X = X[selected_features]"
      ],
      "metadata": {
        "colab": {
          "base_uri": "https://localhost:8080/"
        },
        "id": "9tBiTloSLsPl",
        "outputId": "6d759bc3-c869-4961-ec83-075cfa9429c0"
      },
      "execution_count": 10,
      "outputs": [
        {
          "output_type": "stream",
          "name": "stdout",
          "text": [
            "Selected features: Index(['time', 'dew_point', 'pressure', 'time_1_day', 'wind_speed_1_day',\n",
            "       'pressure_1_day', 'time_2_day', 'temperature_2_day', 'dew_point_2_day',\n",
            "       'wind_speed_2_day', 'pressure_2_day'],\n",
            "      dtype='object')\n"
          ]
        }
      ]
    },
    {
      "cell_type": "markdown",
      "source": [
        "linear regression"
      ],
      "metadata": {
        "id": "ZVfG5FYqcD_1"
      }
    },
    {
      "cell_type": "code",
      "source": [
        "lr = LinearRegression()\n",
        "sum_LR_mse_SFM = []\n",
        "sum_LR_r2_SFM = []\n",
        "\n",
        "for i in range(iteration):\n",
        "  X_train, X_test, y_train, y_test = train_test_split(X, y, test_size=0.3, random_state=i)\n",
        "  lr.fit(X_train, y_train)\n",
        "  y_pred = lr.predict(X_test)\n",
        "  mse = mean_squared_error(y_test, y_pred)\n",
        "  r2 = r2_score(y_test, y_pred)\n",
        "  sum_LR_mse_SFM.append(mse)\n",
        "  sum_LR_r2_SFM.append(r2)\n",
        "\n",
        "avg_LR_mse_SFM = sum(sum_LR_mse_SFM) / iteration\n",
        "avg_LR_r2_SFM = sum(sum_LR_r2_SFM) / iteration\n",
        "print(\"Linear Regression:\")\n",
        "print(\"MSE =\", avg_LR_mse_SFM)\n",
        "print(\"R2 =\", avg_LR_r2_SFM * 100)"
      ],
      "metadata": {
        "id": "UHYWLX8pMTuz",
        "colab": {
          "base_uri": "https://localhost:8080/"
        },
        "outputId": "3a0cd8d0-13e3-4ef7-bf31-66f22c15c349"
      },
      "execution_count": 11,
      "outputs": [
        {
          "output_type": "stream",
          "name": "stdout",
          "text": [
            "Linear Regression:\n",
            "MSE = 10.634056941889778\n",
            "R2 = 87.23118118832687\n"
          ]
        }
      ]
    },
    {
      "cell_type": "markdown",
      "source": [
        "\n",
        "\n",
        "\n",
        "\n",
        "\n",
        "Decision Tree Regression"
      ],
      "metadata": {
        "id": "oR2zdmr0cL5-"
      }
    },
    {
      "cell_type": "code",
      "source": [
        "X = df.drop([\"label\"], axis=1)\n",
        "y = df[\"label\"]\n",
        "X_train, X_test, y_train, y_test = train_test_split(X, y, test_size=0.3, random_state=4)\n",
        "\n",
        "model = DecisionTreeRegressor(random_state=0)\n",
        "model.fit(X_train, y_train)\n",
        "\n",
        "sfm = SelectFromModel(model, threshold=\"median\")\n",
        "sfm.fit(X_train, y_train)\n",
        "\n",
        "selected_features = X.columns[sfm.get_support()]\n",
        "print(\"Selected features:\", selected_features)\n",
        "X_selected = X[selected_features]"
      ],
      "metadata": {
        "colab": {
          "base_uri": "https://localhost:8080/"
        },
        "id": "YeVWqCnoNPUz",
        "outputId": "ddbdcf30-8c8f-4283-ff0e-f70cadbe2b09"
      },
      "execution_count": 12,
      "outputs": [
        {
          "output_type": "stream",
          "name": "stdout",
          "text": [
            "Selected features: Index(['time', 'temperature', 'dew_point', 'pressure', 'time_1_day',\n",
            "       'temperature_1_day', 'time_2_day', 'temperature_2_day',\n",
            "       'dew_point_2_day', 'wind_direction_2_day', 'pressure_2_day'],\n",
            "      dtype='object')\n"
          ]
        }
      ]
    },
    {
      "cell_type": "code",
      "source": [
        "dt = DecisionTreeRegressor()\n",
        "sum_DT_mse_SFM = []\n",
        "sum_DT_r2_SFM = []\n",
        "\n",
        "for i in range(iteration):\n",
        "  X_train, X_test, y_train, y_test = train_test_split(X_selected, y, test_size=0.3, random_state=i)\n",
        "  dt.fit(X_train, y_train)\n",
        "  y_pred = dt.predict(X_test)\n",
        "  mse = mean_squared_error(y_test, y_pred)\n",
        "  r2 = r2_score(y_test, y_pred)\n",
        "  sum_DT_mse_SFM.append(mse)\n",
        "  sum_DT_r2_SFM.append(r2)\n",
        "\n",
        "avg_DT_mse_SFM = sum(sum_DT_mse_SFM) / iteration\n",
        "avg_DT_r2_SFM = sum(sum_DT_r2_SFM) / iteration\n",
        "print(\"Decision Tree:\")\n",
        "print(\"MSE =\", avg_DT_mse_SFM)\n",
        "print(\"R2 =\", avg_DT_r2_SFM * 100)"
      ],
      "metadata": {
        "id": "Nnuqi3mIOHux",
        "colab": {
          "base_uri": "https://localhost:8080/"
        },
        "outputId": "c7849335-4ea1-40d5-e4a7-d1cdfa757dfd"
      },
      "execution_count": 13,
      "outputs": [
        {
          "output_type": "stream",
          "name": "stdout",
          "text": [
            "Decision Tree:\n",
            "MSE = 12.42025108890597\n",
            "R2 = 85.0850808611537\n"
          ]
        }
      ]
    },
    {
      "cell_type": "markdown",
      "source": [
        "Randome forest"
      ],
      "metadata": {
        "id": "O5txuiV_inhh"
      }
    },
    {
      "cell_type": "code",
      "source": [
        "X = df.drop([\"label\"], axis=1)\n",
        "y = df[\"label\"]\n",
        "X_train, X_test, y_train, y_test = train_test_split(X, y, test_size=0.3, random_state=4)\n",
        "\n",
        "model = RandomForestRegressor(random_state=0)\n",
        "model.fit(X_train, y_train)\n",
        "\n",
        "sfm = SelectFromModel(model, threshold='median')\n",
        "sfm.fit(X_train, y_train)\n",
        "\n",
        "features = X.columns[sfm.get_support()]\n",
        "print(\"Selected features:\", features)\n",
        "X = X[selected_features]"
      ],
      "metadata": {
        "colab": {
          "base_uri": "https://localhost:8080/"
        },
        "id": "HwYdx-Eciw54",
        "outputId": "cd0adf04-4983-435b-efb6-a6b9ec104bd9"
      },
      "execution_count": 14,
      "outputs": [
        {
          "output_type": "stream",
          "name": "stdout",
          "text": [
            "Selected features: Index(['time', 'temperature', 'dew_point', 'pressure', 'time_1_day',\n",
            "       'temperature_1_day', 'dew_point_1_day', 'time_2_day',\n",
            "       'temperature_2_day', 'dew_point_2_day', 'pressure_2_day'],\n",
            "      dtype='object')\n"
          ]
        }
      ]
    },
    {
      "cell_type": "code",
      "source": [
        "rf = RandomForestRegressor()\n",
        "RF_mse_SFM = []\n",
        "RF_r2_SFM = []\n",
        "\n",
        "\n",
        "for i in range(iteration):\n",
        "    X_train, X_test, y_train, y_test = train_test_split(X, y, test_size=0.3, random_state=i)\n",
        "    rf.fit(X_train, y_train)\n",
        "    y_pred = rf.predict(X_test)\n",
        "    mse = mean_squared_error(y_test, y_pred)\n",
        "    r2 = r2_score(y_test, y_pred)\n",
        "    RF_mse_SFM.append(mse)\n",
        "    RF_r2_SFM.append(r2)\n",
        "\n",
        "aRF_mse_SFM = sum(RF_mse_SFM) / iteration\n",
        "aRF_r2_SFM = sum(RF_r2_SFM) / iteration"
      ],
      "metadata": {
        "id": "CZknH7hAl34g"
      },
      "execution_count": 15,
      "outputs": []
    },
    {
      "cell_type": "code",
      "source": [
        "print(\"Random Forest:\")\n",
        "print(\"MSE =\", aRF_mse_SFM)\n",
        "print(\"R2 =\", aRF_r2_SFM * 100)"
      ],
      "metadata": {
        "colab": {
          "base_uri": "https://localhost:8080/"
        },
        "id": "3U4KCrCCaA81",
        "outputId": "36c26d64-6524-4353-b856-87cd230c1dfb"
      },
      "execution_count": 16,
      "outputs": [
        {
          "output_type": "stream",
          "name": "stdout",
          "text": [
            "Random Forest:\n",
            "MSE = 6.161915186266975\n",
            "R2 = 92.60114081197368\n"
          ]
        }
      ]
    },
    {
      "cell_type": "code",
      "source": [
        "y_pred = rf.predict(X)"
      ],
      "metadata": {
        "id": "w9AFQGj4ixB7"
      },
      "execution_count": 20,
      "outputs": []
    },
    {
      "cell_type": "code",
      "source": [
        "df2 = pd.DataFrame()"
      ],
      "metadata": {
        "id": "MFM8dndTY9Uj"
      },
      "execution_count": 23,
      "outputs": []
    },
    {
      "cell_type": "code",
      "source": [
        "df2['label']=y_pred"
      ],
      "metadata": {
        "id": "sz-6tfRDY9or"
      },
      "execution_count": 24,
      "outputs": []
    },
    {
      "cell_type": "code",
      "source": [
        "df2.to_csv('submit_3.csv', index=False)"
      ],
      "metadata": {
        "id": "BjwSzm6PY99J"
      },
      "execution_count": 25,
      "outputs": []
    },
    {
      "cell_type": "code",
      "source": [
        "df.to_csv('submit_4.csv', index=False)"
      ],
      "metadata": {
        "id": "COneGxvBpNcf"
      },
      "execution_count": 26,
      "outputs": []
    }
  ]
}